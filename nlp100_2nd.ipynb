{
  "nbformat": 4,
  "nbformat_minor": 0,
  "metadata": {
    "colab": {
      "name": "nlp100_2nd.ipynb",
      "provenance": [],
      "authorship_tag": "ABX9TyNBWRTIhnxXRWnWqLEMmyJI",
      "include_colab_link": true
    },
    "kernelspec": {
      "name": "python3",
      "display_name": "Python 3"
    },
    "language_info": {
      "name": "python"
    }
  },
  "cells": [
    {
      "cell_type": "markdown",
      "metadata": {
        "id": "view-in-github",
        "colab_type": "text"
      },
      "source": [
        "<a href=\"https://colab.research.google.com/github/Shogo-dayo/Shogo-dayo.github.io/blob/master/nlp100_2nd.ipynb\" target=\"_parent\"><img src=\"https://colab.research.google.com/assets/colab-badge.svg\" alt=\"Open In Colab\"/></a>"
      ]
    },
    {
      "cell_type": "code",
      "metadata": {
        "id": "jXaXWBYpo2Ls"
      },
      "source": [
        "import os\n",
        "import re\n",
        "import numpy as np\n",
        "import pandas as pd"
      ],
      "execution_count": null,
      "outputs": []
    },
    {
      "cell_type": "code",
      "metadata": {
        "colab": {
          "base_uri": "https://localhost:8080/"
        },
        "id": "jJpcGarTrc7K",
        "outputId": "c53846d4-a02d-4f1d-eaf7-51027719b735"
      },
      "source": [
        "os.listdir()"
      ],
      "execution_count": null,
      "outputs": [
        {
          "output_type": "execute_result",
          "data": {
            "text/plain": [
              "['.config', 'sample_data']"
            ]
          },
          "metadata": {
            "tags": []
          },
          "execution_count": 4
        }
      ]
    },
    {
      "cell_type": "code",
      "metadata": {
        "colab": {
          "base_uri": "https://localhost:8080/"
        },
        "id": "doxeBB7P83DZ",
        "outputId": "4ac7d165-f243-423c-b358-f617ceb5f465"
      },
      "source": [
        "from google.colab import drive\n",
        "drive.mount('/content/drive')"
      ],
      "execution_count": null,
      "outputs": [
        {
          "output_type": "stream",
          "text": [
            "Mounted at /content/drive\n"
          ],
          "name": "stdout"
        }
      ]
    },
    {
      "cell_type": "code",
      "metadata": {
        "colab": {
          "base_uri": "https://localhost:8080/"
        },
        "id": "Romo9msy9Tbm",
        "outputId": "ff6efa3b-8f16-4243-890e-9cb6a7d192c3"
      },
      "source": [
        "os.listdir()"
      ],
      "execution_count": null,
      "outputs": [
        {
          "output_type": "execute_result",
          "data": {
            "text/plain": [
              "['.config', 'drive', 'sample_data']"
            ]
          },
          "metadata": {
            "tags": []
          },
          "execution_count": 11
        }
      ]
    },
    {
      "cell_type": "code",
      "metadata": {
        "colab": {
          "base_uri": "https://localhost:8080/",
          "height": 191
        },
        "id": "dqJT6EdvpF2c",
        "outputId": "e8c21400-667c-46e4-d753-33c8486e9db4"
      },
      "source": [
        "df = pd.read_csv(\"drive/MyDrive/Study/MachineLearning/nlp/nlp100/popular-names.txt\", sep='\\t', header=None)\n",
        "df.head()"
      ],
      "execution_count": null,
      "outputs": [
        {
          "output_type": "execute_result",
          "data": {
            "text/html": [
              "<div>\n",
              "<style scoped>\n",
              "    .dataframe tbody tr th:only-of-type {\n",
              "        vertical-align: middle;\n",
              "    }\n",
              "\n",
              "    .dataframe tbody tr th {\n",
              "        vertical-align: top;\n",
              "    }\n",
              "\n",
              "    .dataframe thead th {\n",
              "        text-align: right;\n",
              "    }\n",
              "</style>\n",
              "<table border=\"1\" class=\"dataframe\">\n",
              "  <thead>\n",
              "    <tr style=\"text-align: right;\">\n",
              "      <th></th>\n",
              "      <th>0</th>\n",
              "      <th>1</th>\n",
              "      <th>2</th>\n",
              "      <th>3</th>\n",
              "    </tr>\n",
              "  </thead>\n",
              "  <tbody>\n",
              "    <tr>\n",
              "      <th>0</th>\n",
              "      <td>Mary</td>\n",
              "      <td>F</td>\n",
              "      <td>7065</td>\n",
              "      <td>1880</td>\n",
              "    </tr>\n",
              "    <tr>\n",
              "      <th>1</th>\n",
              "      <td>Anna</td>\n",
              "      <td>F</td>\n",
              "      <td>2604</td>\n",
              "      <td>1880</td>\n",
              "    </tr>\n",
              "    <tr>\n",
              "      <th>2</th>\n",
              "      <td>Emma</td>\n",
              "      <td>F</td>\n",
              "      <td>2003</td>\n",
              "      <td>1880</td>\n",
              "    </tr>\n",
              "    <tr>\n",
              "      <th>3</th>\n",
              "      <td>Elizabeth</td>\n",
              "      <td>F</td>\n",
              "      <td>1939</td>\n",
              "      <td>1880</td>\n",
              "    </tr>\n",
              "    <tr>\n",
              "      <th>4</th>\n",
              "      <td>Minnie</td>\n",
              "      <td>F</td>\n",
              "      <td>1746</td>\n",
              "      <td>1880</td>\n",
              "    </tr>\n",
              "  </tbody>\n",
              "</table>\n",
              "</div>"
            ],
            "text/plain": [
              "           0  1     2     3\n",
              "0       Mary  F  7065  1880\n",
              "1       Anna  F  2604  1880\n",
              "2       Emma  F  2003  1880\n",
              "3  Elizabeth  F  1939  1880\n",
              "4     Minnie  F  1746  1880"
            ]
          },
          "metadata": {
            "tags": []
          },
          "execution_count": 14
        }
      ]
    },
    {
      "cell_type": "markdown",
      "metadata": {
        "id": "GD_ZGYim9cZt"
      },
      "source": [
        "10. 行数をカウントせよ．確認にはwcコマンドを用いよ．"
      ]
    },
    {
      "cell_type": "code",
      "metadata": {
        "colab": {
          "base_uri": "https://localhost:8080/"
        },
        "id": "QAOnIXukraby",
        "outputId": "0822f3b3-9549-49ec-d23c-5aac56787009"
      },
      "source": [
        "len(df)"
      ],
      "execution_count": null,
      "outputs": [
        {
          "output_type": "execute_result",
          "data": {
            "text/plain": [
              "2780"
            ]
          },
          "metadata": {
            "tags": []
          },
          "execution_count": 15
        }
      ]
    },
    {
      "cell_type": "markdown",
      "metadata": {
        "id": "SgSEGcql9iHV"
      },
      "source": [
        "11. タブ1文字につきスペース1文字に置換せよ．確認にはsedコマンド，trコマンド，もしくはexpandコマンドを用いよ"
      ]
    },
    {
      "cell_type": "code",
      "metadata": {
        "id": "Dojri_Wr9hTt"
      },
      "source": [
        "df.to_csv('drive/MyDrive/Study/MachineLearning/nlp/nlp100/ans11.txt', sep=' ', index=False, header=None)"
      ],
      "execution_count": null,
      "outputs": []
    },
    {
      "cell_type": "markdown",
      "metadata": {
        "id": "WJiQY53v9sAR"
      },
      "source": [
        "12. 各行の1列目だけを抜き出したものをcol1.txtに，2列目だけを抜き出したものをcol2.txtとしてファイルに保存せよ．確認にはcutコマンドを用いよ．"
      ]
    },
    {
      "cell_type": "code",
      "metadata": {
        "id": "CJJaO3Pj-fYm"
      },
      "source": [
        "df[0].to_csv('drive/MyDrive/Study/MachineLearning/nlp/nlp100/col1.txt',index=False, header=None)\n",
        "df[1].to_csv('drive/MyDrive/Study/MachineLearning/nlp/nlp100/col2.txt',index=False, header=None)"
      ],
      "execution_count": null,
      "outputs": []
    },
    {
      "cell_type": "markdown",
      "metadata": {
        "id": "khr1lrCC9td4"
      },
      "source": [
        "13. 12で作ったcol1.txtとcol2.txtを結合し，元のファイルの1列目と2列目をタブ区切りで並べたテキストファイルを作成せよ．確認にはpasteコマンドを用いよ．"
      ]
    },
    {
      "cell_type": "code",
      "metadata": {
        "id": "TSUh4vl0-88K"
      },
      "source": [
        "col1_df = pd.read_csv('drive/MyDrive/Study/MachineLearning/nlp/nlp100/col1.txt', header=None)\n",
        "col2_df = pd.read_csv('drive/MyDrive/Study/MachineLearning/nlp/nlp100/col2.txt', header=None)\n",
        "colMerge_df = pd.concat([col1_df, col2_df],axis=1)\n",
        "colMerge_df.to_csv('drive/MyDrive/Study/MachineLearning/nlp/nlp100/ans13.txt', sep='\\t', index=False, header=None)"
      ],
      "execution_count": null,
      "outputs": []
    },
    {
      "cell_type": "markdown",
      "metadata": {
        "id": "59Qc3p5I96KX"
      },
      "source": [
        "14. 自然数Nをコマンドライン引数などの手段で受け取り，入力のうち先頭のN行だけを表示せよ．確認にはheadコマンドを用いよ．"
      ]
    },
    {
      "cell_type": "code",
      "metadata": {
        "colab": {
          "base_uri": "https://localhost:8080/",
          "height": 191
        },
        "id": "YTouBGhvAQkZ",
        "outputId": "32a6e76b-9673-45ca-d47e-aa279b465505"
      },
      "source": [
        "colMerge_df.head(5)"
      ],
      "execution_count": null,
      "outputs": [
        {
          "output_type": "execute_result",
          "data": {
            "text/html": [
              "<div>\n",
              "<style scoped>\n",
              "    .dataframe tbody tr th:only-of-type {\n",
              "        vertical-align: middle;\n",
              "    }\n",
              "\n",
              "    .dataframe tbody tr th {\n",
              "        vertical-align: top;\n",
              "    }\n",
              "\n",
              "    .dataframe thead th {\n",
              "        text-align: right;\n",
              "    }\n",
              "</style>\n",
              "<table border=\"1\" class=\"dataframe\">\n",
              "  <thead>\n",
              "    <tr style=\"text-align: right;\">\n",
              "      <th></th>\n",
              "      <th>0</th>\n",
              "      <th>0</th>\n",
              "    </tr>\n",
              "  </thead>\n",
              "  <tbody>\n",
              "    <tr>\n",
              "      <th>0</th>\n",
              "      <td>Mary</td>\n",
              "      <td>F</td>\n",
              "    </tr>\n",
              "    <tr>\n",
              "      <th>1</th>\n",
              "      <td>Anna</td>\n",
              "      <td>F</td>\n",
              "    </tr>\n",
              "    <tr>\n",
              "      <th>2</th>\n",
              "      <td>Emma</td>\n",
              "      <td>F</td>\n",
              "    </tr>\n",
              "    <tr>\n",
              "      <th>3</th>\n",
              "      <td>Elizabeth</td>\n",
              "      <td>F</td>\n",
              "    </tr>\n",
              "    <tr>\n",
              "      <th>4</th>\n",
              "      <td>Minnie</td>\n",
              "      <td>F</td>\n",
              "    </tr>\n",
              "  </tbody>\n",
              "</table>\n",
              "</div>"
            ],
            "text/plain": [
              "           0  0\n",
              "0       Mary  F\n",
              "1       Anna  F\n",
              "2       Emma  F\n",
              "3  Elizabeth  F\n",
              "4     Minnie  F"
            ]
          },
          "metadata": {
            "tags": []
          },
          "execution_count": 26
        }
      ]
    },
    {
      "cell_type": "markdown",
      "metadata": {
        "id": "ft-az6yw99gp"
      },
      "source": [
        "15. 自然数Nをコマンドライン引数などの手段で受け取り，入力のうち末尾のN行だけを表示せよ．確認にはtailコマンドを用いよ．"
      ]
    },
    {
      "cell_type": "code",
      "metadata": {
        "colab": {
          "base_uri": "https://localhost:8080/",
          "height": 191
        },
        "id": "DD9RpMpyATyo",
        "outputId": "e1deccf2-a4d7-43a6-d702-7a947b0598df"
      },
      "source": [
        "colMerge_df.tail(5)"
      ],
      "execution_count": null,
      "outputs": [
        {
          "output_type": "execute_result",
          "data": {
            "text/html": [
              "<div>\n",
              "<style scoped>\n",
              "    .dataframe tbody tr th:only-of-type {\n",
              "        vertical-align: middle;\n",
              "    }\n",
              "\n",
              "    .dataframe tbody tr th {\n",
              "        vertical-align: top;\n",
              "    }\n",
              "\n",
              "    .dataframe thead th {\n",
              "        text-align: right;\n",
              "    }\n",
              "</style>\n",
              "<table border=\"1\" class=\"dataframe\">\n",
              "  <thead>\n",
              "    <tr style=\"text-align: right;\">\n",
              "      <th></th>\n",
              "      <th>0</th>\n",
              "      <th>0</th>\n",
              "    </tr>\n",
              "  </thead>\n",
              "  <tbody>\n",
              "    <tr>\n",
              "      <th>2775</th>\n",
              "      <td>Benjamin</td>\n",
              "      <td>M</td>\n",
              "    </tr>\n",
              "    <tr>\n",
              "      <th>2776</th>\n",
              "      <td>Elijah</td>\n",
              "      <td>M</td>\n",
              "    </tr>\n",
              "    <tr>\n",
              "      <th>2777</th>\n",
              "      <td>Lucas</td>\n",
              "      <td>M</td>\n",
              "    </tr>\n",
              "    <tr>\n",
              "      <th>2778</th>\n",
              "      <td>Mason</td>\n",
              "      <td>M</td>\n",
              "    </tr>\n",
              "    <tr>\n",
              "      <th>2779</th>\n",
              "      <td>Logan</td>\n",
              "      <td>M</td>\n",
              "    </tr>\n",
              "  </tbody>\n",
              "</table>\n",
              "</div>"
            ],
            "text/plain": [
              "             0  0\n",
              "2775  Benjamin  M\n",
              "2776    Elijah  M\n",
              "2777     Lucas  M\n",
              "2778     Mason  M\n",
              "2779     Logan  M"
            ]
          },
          "metadata": {
            "tags": []
          },
          "execution_count": 27
        }
      ]
    },
    {
      "cell_type": "markdown",
      "metadata": {
        "id": "Xf-jWMcr-AqF"
      },
      "source": [
        "16. 自然数Nをコマンドライン引数などの手段で受け取り，入力のファイルを行単位でN分割せよ．同様の処理をsplitコマンドで実現せよ．"
      ]
    },
    {
      "cell_type": "code",
      "metadata": {
        "colab": {
          "base_uri": "https://localhost:8080/",
          "height": 105
        },
        "id": "2u1tAIWgAZjF",
        "outputId": "9cd44691-df34-4cf8-e6b3-6d4561e840a2"
      },
      "source": [
        "colMerge_df.iloc[:2, :]"
      ],
      "execution_count": null,
      "outputs": [
        {
          "output_type": "execute_result",
          "data": {
            "text/html": [
              "<div>\n",
              "<style scoped>\n",
              "    .dataframe tbody tr th:only-of-type {\n",
              "        vertical-align: middle;\n",
              "    }\n",
              "\n",
              "    .dataframe tbody tr th {\n",
              "        vertical-align: top;\n",
              "    }\n",
              "\n",
              "    .dataframe thead th {\n",
              "        text-align: right;\n",
              "    }\n",
              "</style>\n",
              "<table border=\"1\" class=\"dataframe\">\n",
              "  <thead>\n",
              "    <tr style=\"text-align: right;\">\n",
              "      <th></th>\n",
              "      <th>0</th>\n",
              "      <th>0</th>\n",
              "    </tr>\n",
              "  </thead>\n",
              "  <tbody>\n",
              "    <tr>\n",
              "      <th>0</th>\n",
              "      <td>Mary</td>\n",
              "      <td>F</td>\n",
              "    </tr>\n",
              "    <tr>\n",
              "      <th>1</th>\n",
              "      <td>Anna</td>\n",
              "      <td>F</td>\n",
              "    </tr>\n",
              "  </tbody>\n",
              "</table>\n",
              "</div>"
            ],
            "text/plain": [
              "      0  0\n",
              "0  Mary  F\n",
              "1  Anna  F"
            ]
          },
          "metadata": {
            "tags": []
          },
          "execution_count": 29
        }
      ]
    },
    {
      "cell_type": "code",
      "metadata": {
        "colab": {
          "base_uri": "https://localhost:8080/",
          "height": 391
        },
        "id": "VxtWKRZTAtdL",
        "outputId": "62a9aed2-b05c-49aa-f168-d17496d63139"
      },
      "source": [
        "colMerge_df.iloc[2:, :]"
      ],
      "execution_count": null,
      "outputs": [
        {
          "output_type": "execute_result",
          "data": {
            "text/html": [
              "<div>\n",
              "<style scoped>\n",
              "    .dataframe tbody tr th:only-of-type {\n",
              "        vertical-align: middle;\n",
              "    }\n",
              "\n",
              "    .dataframe tbody tr th {\n",
              "        vertical-align: top;\n",
              "    }\n",
              "\n",
              "    .dataframe thead th {\n",
              "        text-align: right;\n",
              "    }\n",
              "</style>\n",
              "<table border=\"1\" class=\"dataframe\">\n",
              "  <thead>\n",
              "    <tr style=\"text-align: right;\">\n",
              "      <th></th>\n",
              "      <th>0</th>\n",
              "      <th>0</th>\n",
              "    </tr>\n",
              "  </thead>\n",
              "  <tbody>\n",
              "    <tr>\n",
              "      <th>2</th>\n",
              "      <td>Emma</td>\n",
              "      <td>F</td>\n",
              "    </tr>\n",
              "    <tr>\n",
              "      <th>3</th>\n",
              "      <td>Elizabeth</td>\n",
              "      <td>F</td>\n",
              "    </tr>\n",
              "    <tr>\n",
              "      <th>4</th>\n",
              "      <td>Minnie</td>\n",
              "      <td>F</td>\n",
              "    </tr>\n",
              "    <tr>\n",
              "      <th>5</th>\n",
              "      <td>Margaret</td>\n",
              "      <td>F</td>\n",
              "    </tr>\n",
              "    <tr>\n",
              "      <th>6</th>\n",
              "      <td>Ida</td>\n",
              "      <td>F</td>\n",
              "    </tr>\n",
              "    <tr>\n",
              "      <th>...</th>\n",
              "      <td>...</td>\n",
              "      <td>...</td>\n",
              "    </tr>\n",
              "    <tr>\n",
              "      <th>2775</th>\n",
              "      <td>Benjamin</td>\n",
              "      <td>M</td>\n",
              "    </tr>\n",
              "    <tr>\n",
              "      <th>2776</th>\n",
              "      <td>Elijah</td>\n",
              "      <td>M</td>\n",
              "    </tr>\n",
              "    <tr>\n",
              "      <th>2777</th>\n",
              "      <td>Lucas</td>\n",
              "      <td>M</td>\n",
              "    </tr>\n",
              "    <tr>\n",
              "      <th>2778</th>\n",
              "      <td>Mason</td>\n",
              "      <td>M</td>\n",
              "    </tr>\n",
              "    <tr>\n",
              "      <th>2779</th>\n",
              "      <td>Logan</td>\n",
              "      <td>M</td>\n",
              "    </tr>\n",
              "  </tbody>\n",
              "</table>\n",
              "<p>2778 rows × 2 columns</p>\n",
              "</div>"
            ],
            "text/plain": [
              "              0  0\n",
              "2          Emma  F\n",
              "3     Elizabeth  F\n",
              "4        Minnie  F\n",
              "5      Margaret  F\n",
              "6           Ida  F\n",
              "...         ... ..\n",
              "2775   Benjamin  M\n",
              "2776     Elijah  M\n",
              "2777      Lucas  M\n",
              "2778      Mason  M\n",
              "2779      Logan  M\n",
              "\n",
              "[2778 rows x 2 columns]"
            ]
          },
          "metadata": {
            "tags": []
          },
          "execution_count": 30
        }
      ]
    },
    {
      "cell_type": "markdown",
      "metadata": {
        "id": "U7B2BeJE-IOE"
      },
      "source": [
        "17. 1列目の文字列の種類（異なる文字列の集合）を求めよ．確認にはcut, sort, uniqコマンドを用いよ．"
      ]
    },
    {
      "cell_type": "code",
      "metadata": {
        "colab": {
          "base_uri": "https://localhost:8080/"
        },
        "id": "2RV6wiRjA13o",
        "outputId": "38480e33-697c-4058-909d-053ee2088729"
      },
      "source": [
        "np.unique(colMerge_df[0])"
      ],
      "execution_count": null,
      "outputs": [
        {
          "output_type": "execute_result",
          "data": {
            "text/plain": [
              "array(['Abigail', 'Aiden', 'Alexander', 'Alexis', 'Alice', 'Amanda',\n",
              "       'Amelia', 'Amy', 'Andrew', 'Angela', 'Anna', 'Annie', 'Anthony',\n",
              "       'Ashley', 'Austin', 'Ava', 'Barbara', 'Benjamin', 'Bertha',\n",
              "       'Bessie', 'Betty', 'Brandon', 'Brian', 'Brittany', 'Carol',\n",
              "       'Carolyn', 'Charles', 'Charlotte', 'Chloe', 'Christopher', 'Clara',\n",
              "       'Crystal', 'Cynthia', 'Daniel', 'David', 'Deborah', 'Debra',\n",
              "       'Donald', 'Donna', 'Doris', 'Dorothy', 'Edward', 'Elijah',\n",
              "       'Elizabeth', 'Emily', 'Emma', 'Ethan', 'Ethel', 'Evelyn', 'F',\n",
              "       'Florence', 'Frances', 'Frank', 'Gary', 'George', 'Hannah',\n",
              "       'Harper', 'Harry', 'Heather', 'Helen', 'Henry', 'Ida', 'Isabella',\n",
              "       'Jacob', 'James', 'Jason', 'Jayden', 'Jeffrey', 'Jennifer',\n",
              "       'Jessica', 'Joan', 'John', 'Joseph', 'Joshua', 'Judith', 'Julie',\n",
              "       'Justin', 'Karen', 'Kathleen', 'Kelly', 'Kimberly', 'Larry',\n",
              "       'Laura', 'Lauren', 'Liam', 'Lillian', 'Linda', 'Lisa', 'Logan',\n",
              "       'Lori', 'Lucas', 'M', 'Madison', 'Margaret', 'Marie', 'Mark',\n",
              "       'Mary', 'Mason', 'Matthew', 'Megan', 'Melissa', 'Mia', 'Michael',\n",
              "       'Michelle', 'Mildred', 'Minnie', 'Nancy', 'Nicholas', 'Nicole',\n",
              "       'Noah', 'Oliver', 'Olivia', 'Pamela', 'Patricia', 'Rachel',\n",
              "       'Rebecca', 'Richard', 'Robert', 'Ronald', 'Ruth', 'Samantha',\n",
              "       'Sandra', 'Sarah', 'Scott', 'Sharon', 'Shirley', 'Sophia',\n",
              "       'Stephanie', 'Steven', 'Susan', 'Tammy', 'Taylor', 'Thomas',\n",
              "       'Tracy', 'Tyler', 'Virginia', 'Walter', 'William'], dtype=object)"
            ]
          },
          "metadata": {
            "tags": []
          },
          "execution_count": 32
        }
      ]
    },
    {
      "cell_type": "markdown",
      "metadata": {
        "id": "YWnV03Rs-LQN"
      },
      "source": [
        "18. 各行を3コラム目の数値の逆順で整列せよ（注意: 各行の内容は変更せずに並び替えよ）．確認にはsortコマンドを用いよ（この問題はコマンドで実行した時の結果と合わなくてもよい）．"
      ]
    },
    {
      "cell_type": "code",
      "metadata": {
        "colab": {
          "base_uri": "https://localhost:8080/",
          "height": 391
        },
        "id": "DFOeHQ-7BC94",
        "outputId": "50f356b1-be16-4de1-bc01-2c77aed0c0e3"
      },
      "source": [
        "df.sort_values(2, ascending=\"False\")"
      ],
      "execution_count": null,
      "outputs": [
        {
          "output_type": "execute_result",
          "data": {
            "text/html": [
              "<div>\n",
              "<style scoped>\n",
              "    .dataframe tbody tr th:only-of-type {\n",
              "        vertical-align: middle;\n",
              "    }\n",
              "\n",
              "    .dataframe tbody tr th {\n",
              "        vertical-align: top;\n",
              "    }\n",
              "\n",
              "    .dataframe thead th {\n",
              "        text-align: right;\n",
              "    }\n",
              "</style>\n",
              "<table border=\"1\" class=\"dataframe\">\n",
              "  <thead>\n",
              "    <tr style=\"text-align: right;\">\n",
              "      <th></th>\n",
              "      <th>0</th>\n",
              "      <th>1</th>\n",
              "      <th>2</th>\n",
              "      <th>3</th>\n",
              "    </tr>\n",
              "  </thead>\n",
              "  <tbody>\n",
              "    <tr>\n",
              "      <th>9</th>\n",
              "      <td>Sarah</td>\n",
              "      <td>F</td>\n",
              "      <td>1288</td>\n",
              "      <td>1880</td>\n",
              "    </tr>\n",
              "    <tr>\n",
              "      <th>29</th>\n",
              "      <td>Alice</td>\n",
              "      <td>F</td>\n",
              "      <td>1308</td>\n",
              "      <td>1881</td>\n",
              "    </tr>\n",
              "    <tr>\n",
              "      <th>8</th>\n",
              "      <td>Bertha</td>\n",
              "      <td>F</td>\n",
              "      <td>1320</td>\n",
              "      <td>1880</td>\n",
              "    </tr>\n",
              "    <tr>\n",
              "      <th>28</th>\n",
              "      <td>Bertha</td>\n",
              "      <td>F</td>\n",
              "      <td>1324</td>\n",
              "      <td>1881</td>\n",
              "    </tr>\n",
              "    <tr>\n",
              "      <th>27</th>\n",
              "      <td>Annie</td>\n",
              "      <td>F</td>\n",
              "      <td>1326</td>\n",
              "      <td>1881</td>\n",
              "    </tr>\n",
              "    <tr>\n",
              "      <th>...</th>\n",
              "      <td>...</td>\n",
              "      <td>...</td>\n",
              "      <td>...</td>\n",
              "      <td>...</td>\n",
              "    </tr>\n",
              "    <tr>\n",
              "      <th>1351</th>\n",
              "      <td>Robert</td>\n",
              "      <td>M</td>\n",
              "      <td>91640</td>\n",
              "      <td>1947</td>\n",
              "    </tr>\n",
              "    <tr>\n",
              "      <th>1550</th>\n",
              "      <td>Michael</td>\n",
              "      <td>M</td>\n",
              "      <td>92704</td>\n",
              "      <td>1957</td>\n",
              "    </tr>\n",
              "    <tr>\n",
              "      <th>1350</th>\n",
              "      <td>James</td>\n",
              "      <td>M</td>\n",
              "      <td>94757</td>\n",
              "      <td>1947</td>\n",
              "    </tr>\n",
              "    <tr>\n",
              "      <th>1360</th>\n",
              "      <td>Linda</td>\n",
              "      <td>F</td>\n",
              "      <td>96211</td>\n",
              "      <td>1948</td>\n",
              "    </tr>\n",
              "    <tr>\n",
              "      <th>1340</th>\n",
              "      <td>Linda</td>\n",
              "      <td>F</td>\n",
              "      <td>99689</td>\n",
              "      <td>1947</td>\n",
              "    </tr>\n",
              "  </tbody>\n",
              "</table>\n",
              "<p>2780 rows × 4 columns</p>\n",
              "</div>"
            ],
            "text/plain": [
              "            0  1      2     3\n",
              "9       Sarah  F   1288  1880\n",
              "29      Alice  F   1308  1881\n",
              "8      Bertha  F   1320  1880\n",
              "28     Bertha  F   1324  1881\n",
              "27      Annie  F   1326  1881\n",
              "...       ... ..    ...   ...\n",
              "1351   Robert  M  91640  1947\n",
              "1550  Michael  M  92704  1957\n",
              "1350    James  M  94757  1947\n",
              "1360    Linda  F  96211  1948\n",
              "1340    Linda  F  99689  1947\n",
              "\n",
              "[2780 rows x 4 columns]"
            ]
          },
          "metadata": {
            "tags": []
          },
          "execution_count": 37
        }
      ]
    },
    {
      "cell_type": "markdown",
      "metadata": {
        "id": "J3tljCkK-MjL"
      },
      "source": [
        "19. 各行の1列目の文字列の出現頻度を求め，その高い順に並べて表示せよ．確認にはcut, uniq, sortコマンドを用いよ．"
      ]
    },
    {
      "cell_type": "code",
      "metadata": {
        "colab": {
          "base_uri": "https://localhost:8080/"
        },
        "id": "9q05rr1r-F-K",
        "outputId": "e86e9edb-86b7-40f7-d346-06ab6e93cb69"
      },
      "source": [
        "df[0].value_counts()"
      ],
      "execution_count": null,
      "outputs": [
        {
          "output_type": "execute_result",
          "data": {
            "text/plain": [
              "James      118\n",
              "William    111\n",
              "John       108\n",
              "Robert     108\n",
              "Mary        92\n",
              "          ... \n",
              "Kelly        1\n",
              "Tracy        1\n",
              "Pamela       1\n",
              "Laura        1\n",
              "Rachel       1\n",
              "Name: 0, Length: 136, dtype: int64"
            ]
          },
          "metadata": {
            "tags": []
          },
          "execution_count": 39
        }
      ]
    },
    {
      "cell_type": "code",
      "metadata": {
        "id": "9eE-ryGGBuxB"
      },
      "source": [
        ""
      ],
      "execution_count": null,
      "outputs": []
    }
  ]
}