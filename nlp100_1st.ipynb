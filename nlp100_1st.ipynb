{
  "nbformat": 4,
  "nbformat_minor": 0,
  "metadata": {
    "colab": {
      "name": "nlp100_1st.ipynb",
      "provenance": [],
      "authorship_tag": "ABX9TyO4GGtlrCJCAkqKf1J8/zD6",
      "include_colab_link": true
    },
    "kernelspec": {
      "name": "python3",
      "display_name": "Python 3"
    },
    "language_info": {
      "name": "python"
    }
  },
  "cells": [
    {
      "cell_type": "markdown",
      "metadata": {
        "id": "view-in-github",
        "colab_type": "text"
      },
      "source": [
        "<a href=\"https://colab.research.google.com/github/Shogo-dayo/Shogo-dayo.github.io/blob/master/nlp100_1st.ipynb\" target=\"_parent\"><img src=\"https://colab.research.google.com/assets/colab-badge.svg\" alt=\"Open In Colab\"/></a>"
      ]
    },
    {
      "cell_type": "code",
      "metadata": {
        "id": "lFV7yrNMUoS9"
      },
      "source": [
        "import re\n",
        "import numpy"
      ],
      "execution_count": null,
      "outputs": []
    },
    {
      "cell_type": "markdown",
      "metadata": {
        "id": "6LLmE85EU30X"
      },
      "source": [
        "00. 文字列の逆順"
      ]
    },
    {
      "cell_type": "code",
      "metadata": {
        "colab": {
          "base_uri": "https://localhost:8080/"
        },
        "id": "We8kLJ9xUxoC",
        "outputId": "ae2b0638-92dd-4ca4-80a0-30e076b1116b"
      },
      "source": [
        "str1 = \"stressed\"\n",
        "str1 = str1[::-1]\n",
        "print(str1)"
      ],
      "execution_count": null,
      "outputs": [
        {
          "output_type": "stream",
          "text": [
            "desserts\n"
          ],
          "name": "stdout"
        }
      ]
    },
    {
      "cell_type": "markdown",
      "metadata": {
        "id": "zM8oovm-VM5b"
      },
      "source": [
        "01. 「パタトクカシー」という文字列の1，3，5，7文字目を取り出して連結した文字列に"
      ]
    },
    {
      "cell_type": "code",
      "metadata": {
        "colab": {
          "base_uri": "https://localhost:8080/"
        },
        "id": "cvITQIT6VEiB",
        "outputId": "4a056efc-d91c-414a-a510-ec0a0ea6865d"
      },
      "source": [
        "str2 = \"パタトクカシー\"\n",
        "str2_re = str2[0] + str2[2] + str2[4] + str2[6]\n",
        "print(str2_re)"
      ],
      "execution_count": null,
      "outputs": [
        {
          "output_type": "stream",
          "text": [
            "パトカー\n"
          ],
          "name": "stdout"
        }
      ]
    },
    {
      "cell_type": "markdown",
      "metadata": {
        "id": "XN6RqNo6Vzxp"
      },
      "source": [
        "02. 「パトカー」　＋　「タクシー」の文字を先頭から交互に連結して文字列「パタトクカシーー」をえよ"
      ]
    },
    {
      "cell_type": "code",
      "metadata": {
        "colab": {
          "base_uri": "https://localhost:8080/"
        },
        "id": "whNRFvfPVvIq",
        "outputId": "2c852da6-f182-41d5-a066-b4e490cac7a2"
      },
      "source": [
        "str3_1 = \"パトカー\"\n",
        "str3_2 = \"タクシー\"\n",
        "str3_re = \"\"\n",
        "n = 0\n",
        "for n in range(len(str3_1)):\n",
        "  str3_re += str3_1[n] + str3_2[n]\n",
        "  n+=1\n",
        "\n",
        "print(str3_re)"
      ],
      "execution_count": null,
      "outputs": [
        {
          "output_type": "stream",
          "text": [
            "パタトクカシーー\n"
          ],
          "name": "stdout"
        }
      ]
    },
    {
      "cell_type": "markdown",
      "metadata": {
        "id": "GoYcvIUmXCCn"
      },
      "source": [
        "03. “Now I need a drink, alcoholic of course, after the heavy lectures involving quantum mechanics.”という文を単語に分解し，各単語の（アルファベットの）文字数を先頭から出現順に並べたリストを作成せよ．"
      ]
    },
    {
      "cell_type": "code",
      "metadata": {
        "colab": {
          "base_uri": "https://localhost:8080/"
        },
        "id": "U-McOYX_WoIg",
        "outputId": "14402d64-6150-4b77-a19c-eb8f415e3ccc"
      },
      "source": [
        "count_list = []\n",
        "sentence = \"Now I need a drink, alcoholic of course, after the heavy lectures involving quantum mechanics.\"\n",
        "print(sentence.split())\n",
        "word_list = sentence.split()\n",
        "for word in word_list:\n",
        "  count_list.append(len(word))\n",
        "\n",
        "print(count_list)"
      ],
      "execution_count": null,
      "outputs": [
        {
          "output_type": "stream",
          "text": [
            "['Now', 'I', 'need', 'a', 'drink,', 'alcoholic', 'of', 'course,', 'after', 'the', 'heavy', 'lectures', 'involving', 'quantum', 'mechanics.']\n",
            "[3, 1, 4, 1, 6, 9, 2, 7, 5, 3, 5, 8, 9, 7, 10]\n"
          ],
          "name": "stdout"
        }
      ]
    },
    {
      "cell_type": "markdown",
      "metadata": {
        "id": "_TRs4IGhYVs-"
      },
      "source": [
        "04. “Hi He Lied Because Boron Could Not Oxidize Fluorine. New Nations Might Also Sign Peace Security Clause. Arthur King Can.”という文を単語に分解し，1, 5, 6, 7, 8, 9, 15, 16, 19番目の単語は先頭の1文字，それ以外の単語は先頭の2文字を取り出し，取り出した文字列から単語の位置（先頭から何番目の単語か）への連想配列（辞書型もしくはマップ型）を作成せよ．"
      ]
    },
    {
      "cell_type": "code",
      "metadata": {
        "colab": {
          "base_uri": "https://localhost:8080/"
        },
        "id": "hJrdSVfXXkI6",
        "outputId": "74f89e50-84a8-404f-eff0-08445d757953"
      },
      "source": [
        "dict4 = {}\n",
        "choose_number = [1,5,6,7,8,9,15,16,19]\n",
        "sentence4 = \"Hi He Lied Because Boron Could Not Oxidize Fluorine. New Nations Might Also Sign Peace Security Clause. Arthur King Can.\"\n",
        "word_list4 = sentence4.split()\n",
        "i = 0\n",
        "for word in word_list4:\n",
        "  if i in choose_number:\n",
        "    dict4[i] = word[0]\n",
        "  \n",
        "  else:\n",
        "    dict4[i] = word[1]\n",
        "  i+=1\n",
        "\n",
        "print(dict4)"
      ],
      "execution_count": null,
      "outputs": [
        {
          "output_type": "stream",
          "text": [
            "{0: 'i', 1: 'H', 2: 'i', 3: 'e', 4: 'o', 5: 'C', 6: 'N', 7: 'O', 8: 'F', 9: 'N', 10: 'a', 11: 'i', 12: 'l', 13: 'i', 14: 'e', 15: 'S', 16: 'C', 17: 'r', 18: 'i', 19: 'C'}\n"
          ],
          "name": "stdout"
        }
      ]
    },
    {
      "cell_type": "markdown",
      "metadata": {
        "id": "SNedeUcLZy46"
      },
      "source": [
        "05. 与えられたシーケンス（文字列やリストなど）からn-gramを作る関数を作成せよ．この関数を用い，”I am an NLPer”という文から単語bi-gram，文字bi-gramを得よ．"
      ]
    },
    {
      "cell_type": "code",
      "metadata": {
        "colab": {
          "base_uri": "https://localhost:8080/"
        },
        "id": "yvVxyT0bZnQY",
        "outputId": "f708a9a8-57c5-46e0-f6b6-1054b21700cd"
      },
      "source": [
        "def n_gram(target, n):\n",
        "  return [target[idx:idx + n] for idx in range(len(target) - n +1)]\n",
        "\n",
        "target = \"I am an NLPer\"\n",
        "print(n_gram(target, 1))\n",
        "print(n_gram(target, 2))\n",
        "print(n_gram(target, 3))\n",
        "\n",
        "words = target.split(\" \")\n",
        "print(n_gram(words, 1))\n",
        "print(n_gram(words, 2))\n",
        "print(n_gram(words, 3))\n"
      ],
      "execution_count": null,
      "outputs": [
        {
          "output_type": "stream",
          "text": [
            "['I', ' ', 'a', 'm', ' ', 'a', 'n', ' ', 'N', 'L', 'P', 'e', 'r']\n",
            "['I ', ' a', 'am', 'm ', ' a', 'an', 'n ', ' N', 'NL', 'LP', 'Pe', 'er']\n",
            "['I a', ' am', 'am ', 'm a', ' an', 'an ', 'n N', ' NL', 'NLP', 'LPe', 'Per']\n",
            "[['I'], ['am'], ['an'], ['NLPer']]\n",
            "[['I', 'am'], ['am', 'an'], ['an', 'NLPer']]\n",
            "[['I', 'am', 'an'], ['am', 'an', 'NLPer']]\n"
          ],
          "name": "stdout"
        }
      ]
    },
    {
      "cell_type": "markdown",
      "metadata": {
        "id": "QmSVsQwCa17B"
      },
      "source": [
        "06. “paraparaparadise”と”paragraph”に含まれる文字bi-gramの集合を，それぞれ, XとYとして求め，XとYの和集合，積集合，差集合を求めよ．さらに，’se’というbi-gramがXおよびYに含まれるかどうかを調べよ．"
      ]
    },
    {
      "cell_type": "code",
      "metadata": {
        "colab": {
          "base_uri": "https://localhost:8080/"
        },
        "id": "lJ_P5NtParXk",
        "outputId": "ca4a7228-3fd3-4548-f835-bcffa91f6ee5"
      },
      "source": [
        "word6_1 = \"paraparaparadise\"\n",
        "word6_2 = \"paragraph\"\n",
        "\n",
        "# 2の場合がbi-gram\n",
        "X = n_gram(word6_1, 2)\n",
        "Y = n_gram(word6_2, 2)\n",
        "setX = set(X)\n",
        "setY = set(Y)\n",
        "s_union = setX | setY\n",
        "s_intersection  =setX & setY\n",
        "s_diffrence = setX - setY\n",
        "print(s_union)\n",
        "print(s_intersection)\n",
        "print(s_diffrence)\n",
        "\n",
        "set_se = {\"se\"}\n",
        "print(set_se <= setX)\n",
        "print(set_se <= setY)"
      ],
      "execution_count": null,
      "outputs": [
        {
          "output_type": "stream",
          "text": [
            "{'se', 'pa', 'ra', 'ar', 'is', 'ph', 'ag', 'ap', 'gr', 'di', 'ad'}\n",
            "{'ra', 'ar', 'ap', 'pa'}\n",
            "{'is', 'se', 'ad', 'di'}\n",
            "True\n",
            "False\n"
          ],
          "name": "stdout"
        }
      ]
    },
    {
      "cell_type": "markdown",
      "metadata": {
        "id": "bfqroN9peV6b"
      },
      "source": [
        "07. 引数x, y, zを受け取り「x時のyはz」という文字列を返す関数を実装せよ．さらに，x=12, y=”気温”, z=22.4として，実行結果を確認せよ．"
      ]
    },
    {
      "cell_type": "code",
      "metadata": {
        "colab": {
          "base_uri": "https://localhost:8080/"
        },
        "id": "zAPMN0KTdaMO",
        "outputId": "d9e84229-c41b-4e61-b563-1ae95a666c87"
      },
      "source": [
        "def produce(x,y,z):\n",
        "  x = str(x)\n",
        "  y= str(y)\n",
        "  z = str(z)\n",
        "  return x + \"時の\" +y+\"は\"+z\n",
        "\n",
        "print(produce(12, \"気温\", 22.4))"
      ],
      "execution_count": null,
      "outputs": [
        {
          "output_type": "stream",
          "text": [
            "12時の気温は22.4\n"
          ],
          "name": "stdout"
        }
      ]
    },
    {
      "cell_type": "markdown",
      "metadata": {
        "id": "EP8fPmBHe96J"
      },
      "source": [
        "08. 与えられた文字列の各文字を，以下の仕様で変換する関数cipherを実装せよ．\n",
        "\n",
        "英小文字ならば(219 - 文字コード)の文字に置換\n",
        "その他の文字はそのまま出力\n",
        "この関数を用い，英語のメッセージを暗号化・復号化せよ．"
      ]
    },
    {
      "cell_type": "code",
      "metadata": {
        "colab": {
          "base_uri": "https://localhost:8080/"
        },
        "id": "ZY06Zvpheu-4",
        "outputId": "14963223-6eed-4bf9-b721-98c35e3553f2"
      },
      "source": [
        "def cipher(text):\n",
        "  # あるUnicodeコードポイントの文字を取得するにはchr()、ある文字のUnicodeコードポイントを取得するにはord()を使用\n",
        "    text = [chr(219 - ord(w)) if 97 <= ord(w) <= 122 else w for w in text]\n",
        "    return ''.join(text)\n",
        "\n",
        "\n",
        "text = 'this is a message.'\n",
        "ans = cipher(text)\n",
        "print(ans)\n",
        "ans = cipher(ans)\n",
        "print(ans)"
      ],
      "execution_count": null,
      "outputs": [
        {
          "output_type": "stream",
          "text": [
            "gsrh rh z nvhhztv.\n",
            "this is a message.\n"
          ],
          "name": "stdout"
        }
      ]
    },
    {
      "cell_type": "markdown",
      "metadata": {
        "id": "MlT1XYi7fyhH"
      },
      "source": [
        "09. スペースで区切られた単語列に対して，各単語の先頭と末尾の文字は残し，それ以外の文字の順序をランダムに並び替えるプログラムを作成せよ．ただし，長さが４以下の単語は並び替えないこととする．適当な英語の文（例えば”I couldn’t believe that I could actually understand what I was reading : the phenomenal power of the human mind .”）を与え，その実行結果を確認せよ．"
      ]
    },
    {
      "cell_type": "code",
      "metadata": {
        "id": "WRNRVYRxgxd9"
      },
      "source": [
        "import random"
      ],
      "execution_count": null,
      "outputs": []
    },
    {
      "cell_type": "code",
      "metadata": {
        "colab": {
          "base_uri": "https://localhost:8080/"
        },
        "id": "BfnJ9tDlf0S2",
        "outputId": "7b93d9f9-9821-48ab-c3ab-b85e64cd68d9"
      },
      "source": [
        "def random_produce(sentence):\n",
        "  if len(sentence) > 4:\n",
        "    top_word = sentence[0]\n",
        "    bottom_word = sentence[-1]\n",
        "    del sentence[0], sentence[-1]\n",
        "    random_result = random.sample(sentence, len(sentence))\n",
        "    random_result.insert(0, top_word)\n",
        "    random_result.insert(-1, bottom_word)\n",
        "    return random_result\n",
        "\n",
        "sentence = \"I couldn’t believe that I could actually understand what I was reading : the phenomenal power of the human mind .\"\n",
        "sentence = sentence.split()\n",
        "print(random_produce(sentence))"
      ],
      "execution_count": null,
      "outputs": [
        {
          "output_type": "stream",
          "text": [
            "['I', 'human', 'reading', 'mind', 'couldn’t', 'what', 'phenomenal', 'I', 'the', 'actually', 'I', 'of', 'that', 'could', 'was', ':', 'believe', 'power', 'understand', '.', 'the']\n"
          ],
          "name": "stdout"
        }
      ]
    },
    {
      "cell_type": "code",
      "metadata": {
        "id": "t6Oz4PPOhM5E"
      },
      "source": [
        ""
      ],
      "execution_count": null,
      "outputs": []
    }
  ]
}